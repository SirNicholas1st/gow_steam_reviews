{
 "cells": [
  {
   "attachments": {},
   "cell_type": "markdown",
   "metadata": {},
   "source": [
    "# Scraping Steam reviews for God Of War\n",
    "\n",
    "https://steamcommunity.com/app/1593500/reviews/?browsefilter=toprated&snr=1_5_100010_&p=1"
   ]
  },
  {
   "cell_type": "code",
   "execution_count": 59,
   "metadata": {},
   "outputs": [],
   "source": [
    "import requests\n",
    "from bs4 import BeautifulSoup as bs\n",
    "import re\n",
    "import pandas as pd\n",
    "import numpy as np"
   ]
  },
  {
   "cell_type": "code",
   "execution_count": 60,
   "metadata": {},
   "outputs": [
    {
     "data": {
      "text/plain": [
       "200"
      ]
     },
     "execution_count": 60,
     "metadata": {},
     "output_type": "execute_result"
    }
   ],
   "source": [
    "url = r\"https://steamcommunity.com/app/1593500/reviews/?browsefilter=toprated&snr=1_5_100010_&p=1\"\n",
    "\n",
    "r = requests.get(url)\n",
    "r.status_code"
   ]
  },
  {
   "cell_type": "code",
   "execution_count": 61,
   "metadata": {},
   "outputs": [],
   "source": [
    "#TODO the page is and infinitely scrolling page with only 10 reviews without scrolling, this needs to be handled so that it fetches more values e.g., with selenium."
   ]
  },
  {
   "cell_type": "code",
   "execution_count": 62,
   "metadata": {},
   "outputs": [],
   "source": [
    "soup = bs(r.content, \"html.parser\")\n",
    "review_divs = soup.findAll(\"div\", class_=\"apphub_UserReviewCardContent\") # reviews are on this div class"
   ]
  },
  {
   "cell_type": "code",
   "execution_count": 63,
   "metadata": {},
   "outputs": [],
   "source": [
    "reviews = []\n",
    "for div in review_divs:\n",
    "    review_text = div.get_text().strip() # get div text and strip leading and trailing whitespace\n",
    "    review_text = review_text.replace(\"\\t\", \"\") # strip remaining tabs from middle of text\n",
    "    review_text = review_text.replace(\"\\r\", \"\") # strip carriage returns\n",
    "    review_text = \"\\n\".join(filter(None, review_text.split(\"\\n\"))) # strip line swaps while leaving one for further processing\n",
    "    reviews.append(review_text)"
   ]
  },
  {
   "cell_type": "code",
   "execution_count": 64,
   "metadata": {},
   "outputs": [
    {
     "data": {
      "text/plain": [
       "['1,839 people found this review helpful75 people found this review funny64',\n",
       " 'Recommended',\n",
       " '46.3 hrs on record',\n",
       " 'Posted: 1 November, 2022',\n",
       " \"“Don't Be Sorry, Be Better.”\"]"
      ]
     },
     "execution_count": 64,
     "metadata": {},
     "output_type": "execute_result"
    }
   ],
   "source": [
    "reviews[0].split(\"\\n\") # reviewing the output"
   ]
  },
  {
   "cell_type": "code",
   "execution_count": 65,
   "metadata": {},
   "outputs": [],
   "source": [
    "# creating regex patterns to parse out the data\n",
    "\n",
    "pattern_helpful = r\"\\d+(?:,\\d{3})*\" # this will result in a list of numbers and we only want the \"found helpful\" number so we need to slice the list with [0]\n",
    "pattern_hours = r\"([\\d.]+)\" # also a list but with only one value, so slicing with [0] also\n",
    "\n",
    "# we wont need a regex pattern for the date posted string since it starts with \"Posted: \" so we can use string.split(\"Posted: \")[1]\n"
   ]
  },
  {
   "cell_type": "code",
   "execution_count": 66,
   "metadata": {},
   "outputs": [
    {
     "name": "stdout",
     "output_type": "stream",
     "text": [
      "1,839 people found this review helpful75 people found this review funny64\n",
      "1839\n",
      "46.3 hrs on record\n",
      "46.3\n"
     ]
    }
   ],
   "source": [
    "# Testing regex\n",
    "test = reviews[0].split(\"\\n\")[0]\n",
    "test_hours = reviews[0].split(\"\\n\")[2]\n",
    "\n",
    "result_test = re.findall(pattern_helpful, test)[0].replace(\",\", \"\") # also replacing the dot\n",
    "result_test_h = re.findall(pattern_hours, test_hours)[0]\n",
    "\n",
    "print(test)\n",
    "print(result_test)\n",
    "print(test_hours)\n",
    "print(result_test_h)"
   ]
  },
  {
   "cell_type": "code",
   "execution_count": 67,
   "metadata": {},
   "outputs": [],
   "source": [
    "# Assigning the data to a Pandas dataframe\n",
    "\n",
    "# creating an empty list to store dictionaries\n",
    "data_list = []\n",
    "\n",
    "# for loop for adding the data to the empty dataframe\n",
    "for review in reviews:\n",
    "\n",
    "    review_s = review.split(\"\\n\")\n",
    "\n",
    "    helpful = re.findall(pattern_helpful, review_s[0])[0].replace(\",\", \"\") # the amount of ppl who found the review helpfull is on the first element.\n",
    "    recommend = review_s[1] == \"Recommended\" # The recommended status is on the 2nd element, we will use true/false for this field.\n",
    "    hours = re.search(pattern_hours, review_s[2])[0] # hours on record is on the 3rd element\n",
    "    post_date = review_s[3].split(\"Posted: \")[1] # we will use the split method so no need for regex.\n",
    "    review_text = review_s[4] # and for the review text itself, its on the last element.\n",
    "\n",
    "    # creating a temporary dictionary for the values\n",
    "    temp = {\"Found helpful\": int(helpful),\n",
    "                  \"Recommend\": recommend,\n",
    "                  \"Hours on record\": float(hours),\n",
    "                  \"Date posted\": post_date,\n",
    "                  \"Review text\": review_text}\n",
    "\n",
    "    data_list.append(temp) # appending the temporary dictionary to a list of data\n",
    "\n",
    "df = pd.DataFrame(data_list) # creating the pandas dataframe from the list of dictionaries."
   ]
  },
  {
   "cell_type": "code",
   "execution_count": 68,
   "metadata": {},
   "outputs": [
    {
     "data": {
      "text/html": [
       "<div>\n",
       "<style scoped>\n",
       "    .dataframe tbody tr th:only-of-type {\n",
       "        vertical-align: middle;\n",
       "    }\n",
       "\n",
       "    .dataframe tbody tr th {\n",
       "        vertical-align: top;\n",
       "    }\n",
       "\n",
       "    .dataframe thead th {\n",
       "        text-align: right;\n",
       "    }\n",
       "</style>\n",
       "<table border=\"1\" class=\"dataframe\">\n",
       "  <thead>\n",
       "    <tr style=\"text-align: right;\">\n",
       "      <th></th>\n",
       "      <th>Found helpful</th>\n",
       "      <th>Recommend</th>\n",
       "      <th>Hours on record</th>\n",
       "      <th>Date posted</th>\n",
       "      <th>Review text</th>\n",
       "    </tr>\n",
       "  </thead>\n",
       "  <tbody>\n",
       "    <tr>\n",
       "      <th>0</th>\n",
       "      <td>1839</td>\n",
       "      <td>True</td>\n",
       "      <td>46.3</td>\n",
       "      <td>1 November, 2022</td>\n",
       "      <td>“Don't Be Sorry, Be Better.”</td>\n",
       "    </tr>\n",
       "    <tr>\n",
       "      <th>1</th>\n",
       "      <td>4301</td>\n",
       "      <td>True</td>\n",
       "      <td>42.9</td>\n",
       "      <td>8 November, 2022</td>\n",
       "      <td>Bring God Of War Ragnarok on PC</td>\n",
       "    </tr>\n",
       "    <tr>\n",
       "      <th>2</th>\n",
       "      <td>1860</td>\n",
       "      <td>True</td>\n",
       "      <td>18.2</td>\n",
       "      <td>14 January, 2022</td>\n",
       "      <td>It's rare to see this much polish (on a consol...</td>\n",
       "    </tr>\n",
       "    <tr>\n",
       "      <th>3</th>\n",
       "      <td>7225</td>\n",
       "      <td>True</td>\n",
       "      <td>36.4</td>\n",
       "      <td>17 January, 2022</td>\n",
       "      <td>No additional account, no unnecessary launcher...</td>\n",
       "    </tr>\n",
       "    <tr>\n",
       "      <th>4</th>\n",
       "      <td>2340</td>\n",
       "      <td>True</td>\n",
       "      <td>11.3</td>\n",
       "      <td>22 December, 2022</td>\n",
       "      <td>hi</td>\n",
       "    </tr>\n",
       "    <tr>\n",
       "      <th>5</th>\n",
       "      <td>2053</td>\n",
       "      <td>True</td>\n",
       "      <td>56.7</td>\n",
       "      <td>24 January, 2022</td>\n",
       "      <td>SONY, DO YOU LIKE MONEY? GoW has been in the t...</td>\n",
       "    </tr>\n",
       "    <tr>\n",
       "      <th>6</th>\n",
       "      <td>1363</td>\n",
       "      <td>True</td>\n",
       "      <td>79.6</td>\n",
       "      <td>16 January, 2022</td>\n",
       "      <td>god of war is one of those games i wish i coul...</td>\n",
       "    </tr>\n",
       "    <tr>\n",
       "      <th>7</th>\n",
       "      <td>3332</td>\n",
       "      <td>True</td>\n",
       "      <td>43.9</td>\n",
       "      <td>25 October, 2022</td>\n",
       "      <td>Please bring Ragnarok to PC! With how well its...</td>\n",
       "    </tr>\n",
       "    <tr>\n",
       "      <th>8</th>\n",
       "      <td>1889</td>\n",
       "      <td>True</td>\n",
       "      <td>20.8</td>\n",
       "      <td>23 November, 2022</td>\n",
       "      <td>Please for the love of God port more games ove...</td>\n",
       "    </tr>\n",
       "    <tr>\n",
       "      <th>9</th>\n",
       "      <td>2842</td>\n",
       "      <td>True</td>\n",
       "      <td>59.1</td>\n",
       "      <td>16 January, 2022</td>\n",
       "      <td>No extra launcher? No signing into a Bethesda ...</td>\n",
       "    </tr>\n",
       "  </tbody>\n",
       "</table>\n",
       "</div>"
      ],
      "text/plain": [
       "   Found helpful  Recommend  Hours on record        Date posted  \\\n",
       "0           1839       True             46.3   1 November, 2022   \n",
       "1           4301       True             42.9   8 November, 2022   \n",
       "2           1860       True             18.2   14 January, 2022   \n",
       "3           7225       True             36.4   17 January, 2022   \n",
       "4           2340       True             11.3  22 December, 2022   \n",
       "5           2053       True             56.7   24 January, 2022   \n",
       "6           1363       True             79.6   16 January, 2022   \n",
       "7           3332       True             43.9   25 October, 2022   \n",
       "8           1889       True             20.8  23 November, 2022   \n",
       "9           2842       True             59.1   16 January, 2022   \n",
       "\n",
       "                                         Review text  \n",
       "0                       “Don't Be Sorry, Be Better.”  \n",
       "1                    Bring God Of War Ragnarok on PC  \n",
       "2  It's rare to see this much polish (on a consol...  \n",
       "3  No additional account, no unnecessary launcher...  \n",
       "4                                                 hi  \n",
       "5  SONY, DO YOU LIKE MONEY? GoW has been in the t...  \n",
       "6  god of war is one of those games i wish i coul...  \n",
       "7  Please bring Ragnarok to PC! With how well its...  \n",
       "8  Please for the love of God port more games ove...  \n",
       "9  No extra launcher? No signing into a Bethesda ...  "
      ]
     },
     "execution_count": 68,
     "metadata": {},
     "output_type": "execute_result"
    }
   ],
   "source": [
    "df"
   ]
  },
  {
   "cell_type": "code",
   "execution_count": null,
   "metadata": {},
   "outputs": [],
   "source": []
  }
 ],
 "metadata": {
  "kernelspec": {
   "display_name": "base",
   "language": "python",
   "name": "python3"
  },
  "language_info": {
   "codemirror_mode": {
    "name": "ipython",
    "version": 3
   },
   "file_extension": ".py",
   "mimetype": "text/x-python",
   "name": "python",
   "nbconvert_exporter": "python",
   "pygments_lexer": "ipython3",
   "version": "3.9.12"
  },
  "orig_nbformat": 4
 },
 "nbformat": 4,
 "nbformat_minor": 2
}
