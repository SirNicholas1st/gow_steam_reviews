{
 "cells": [
  {
   "attachments": {},
   "cell_type": "markdown",
   "metadata": {},
   "source": [
    "# Scraping Steam reviews for God Of War\n",
    "\n",
    "https://steamcommunity.com/app/1593500/reviews/?browsefilter=toprated&snr=1_5_100010_&p=1"
   ]
  },
  {
   "cell_type": "code",
   "execution_count": 11,
   "metadata": {},
   "outputs": [],
   "source": [
    "import requests\n",
    "from bs4 import BeautifulSoup as bs\n",
    "import re\n",
    "import pandas as pd\n",
    "import numpy as np"
   ]
  },
  {
   "cell_type": "code",
   "execution_count": 2,
   "metadata": {},
   "outputs": [
    {
     "data": {
      "text/plain": [
       "200"
      ]
     },
     "execution_count": 2,
     "metadata": {},
     "output_type": "execute_result"
    }
   ],
   "source": [
    "url = r\"https://steamcommunity.com/app/1593500/reviews/?browsefilter=toprated&snr=1_5_100010_&p=1\"\n",
    "\n",
    "r = requests.get(url)\n",
    "r.status_code"
   ]
  },
  {
   "cell_type": "code",
   "execution_count": 3,
   "metadata": {},
   "outputs": [],
   "source": [
    "soup = bs(r.content, \"html.parser\")\n",
    "review_divs = soup.findAll(\"div\", class_=\"apphub_UserReviewCardContent\") # reviews are on this div class"
   ]
  },
  {
   "cell_type": "code",
   "execution_count": 4,
   "metadata": {},
   "outputs": [],
   "source": [
    "reviews = []\n",
    "for div in review_divs:\n",
    "    review_text = div.get_text().strip() # get div text and strip leading and trailing whitespace\n",
    "    review_text = review_text.replace(\"\\t\", \"\") # strip remaining tabs from middle of text\n",
    "    review_text = review_text.replace(\"\\r\", \"\") # strip carriage returns\n",
    "    review_text = \"\\n\".join(filter(None, review_text.split(\"\\n\"))) # strip line swaps while leaving one for further processing\n",
    "    reviews.append(review_text)"
   ]
  },
  {
   "cell_type": "code",
   "execution_count": 6,
   "metadata": {},
   "outputs": [
    {
     "data": {
      "text/plain": [
       "['1,839 people found this review helpful75 people found this review funny64',\n",
       " 'Recommended',\n",
       " '46.3 hrs on record',\n",
       " 'Posted: 1 November, 2022',\n",
       " \"“Don't Be Sorry, Be Better.”\"]"
      ]
     },
     "execution_count": 6,
     "metadata": {},
     "output_type": "execute_result"
    }
   ],
   "source": [
    "reviews[0].split(\"\\n\") # reviewing the output"
   ]
  },
  {
   "cell_type": "code",
   "execution_count": 19,
   "metadata": {},
   "outputs": [],
   "source": [
    "# creating an empty DF for storing data\n",
    "df = pd.DataFrame({\"Found helpful\": pd.Series(dtype=\"int\"),\n",
    "                  \"Recommend\": pd.Series(dtype=\"str\"),\n",
    "                  \"Hours on record\": pd.Series(dtype=\"float\"),\n",
    "                  \"Date posted\": pd.Series(dtype=\"str\"),\n",
    "                  \"Review text\": pd.Series(dtype=\"str\")}\n",
    "                  )\n",
    "# next we need to parse the information in reviews and fill the df"
   ]
  },
  {
   "cell_type": "code",
   "execution_count": 140,
   "metadata": {},
   "outputs": [],
   "source": [
    "# creating regex patterns to parse out the data\n",
    "\n",
    "pattern_helpfull = r\"\\d+(?:,\\d{3})*\" # this will result in a list of numbers and we only want the \"found helpful\" number so we need to slice the list with [0]\n",
    "pattern_hours = r\"([\\d.]+)\" # also a list but with only one value, so slicing with [0] also\n",
    "\n",
    "# we wont need a regex pattern for the date posted string since it starts with \"Posted: \" so we can use string.split(\"Posted: \")[1]\n",
    "\n"
   ]
  },
  {
   "cell_type": "code",
   "execution_count": 154,
   "metadata": {},
   "outputs": [
    {
     "name": "stdout",
     "output_type": "stream",
     "text": [
      "1,839 people found this review helpful75 people found this review funny64\n",
      "1839\n",
      "46.3 hrs on record\n",
      "46.3\n"
     ]
    }
   ],
   "source": [
    "# Testing regex\n",
    "test = reviews[0].split(\"\\n\")[0]\n",
    "test_hours = reviews[0].split(\"\\n\")[2]\n",
    "\n",
    "result_test = re.findall(pattern_helpfull, test)[0].replace(\",\", \"\") # also replacing the dot\n",
    "result_test_h = re.findall(pattern_hours, test_hours)[0]\n",
    "\n",
    "print(test)\n",
    "print(result_test)\n",
    "print(test_hours)\n",
    "print(result_test_h)"
   ]
  },
  {
   "cell_type": "code",
   "execution_count": null,
   "metadata": {},
   "outputs": [],
   "source": [
    "#TODO loop that assigns the data to variables and puts appends them to the created df"
   ]
  }
 ],
 "metadata": {
  "kernelspec": {
   "display_name": "base",
   "language": "python",
   "name": "python3"
  },
  "language_info": {
   "codemirror_mode": {
    "name": "ipython",
    "version": 3
   },
   "file_extension": ".py",
   "mimetype": "text/x-python",
   "name": "python",
   "nbconvert_exporter": "python",
   "pygments_lexer": "ipython3",
   "version": "3.9.12"
  },
  "orig_nbformat": 4
 },
 "nbformat": 4,
 "nbformat_minor": 2
}
