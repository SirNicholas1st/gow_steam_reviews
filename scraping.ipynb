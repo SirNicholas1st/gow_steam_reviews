{
 "cells": [
  {
   "attachments": {},
   "cell_type": "markdown",
   "metadata": {},
   "source": [
    "# Scraping Steam reviews for God Of War\n",
    "\n",
    "https://steamcommunity.com/app/1593500/reviews/?browsefilter=toprated&snr=1_5_100010_&p=1"
   ]
  },
  {
   "cell_type": "code",
   "execution_count": 6,
   "metadata": {},
   "outputs": [],
   "source": [
    "\n",
    "from bs4 import BeautifulSoup as bs\n",
    "import re\n",
    "import pandas as pd\n",
    "import numpy as np\n",
    "from selenium import webdriver\n",
    "from selenium.webdriver.chrome.service import Service\n",
    "from selenium.webdriver.common.keys import Keys\n",
    "from webdriver_manager.chrome import ChromeDriverManager\n",
    "from selenium.webdriver.common.by import By\n",
    "from selenium.webdriver.chrome.options import Options\n",
    "import time\n"
   ]
  },
  {
   "cell_type": "code",
   "execution_count": 12,
   "metadata": {},
   "outputs": [],
   "source": [
    "url = r\"https://steamcommunity.com/app/1593500/reviews/?browsefilter=toprated&snr=1_5_100010_&p=1\"\n"
   ]
  },
  {
   "cell_type": "code",
   "execution_count": 15,
   "metadata": {},
   "outputs": [],
   "source": [
    "# Settign up the language the browser opens up with Selenium.\n",
    "chrome_options = Options()\n",
    "chrome_options.add_experimental_option(\"prefs\", {\"intl.accept_languages\": \"en-US\"})"
   ]
  },
  {
   "cell_type": "code",
   "execution_count": 18,
   "metadata": {},
   "outputs": [],
   "source": [
    "# Scrolling the page with selenium before grabbing the HTML, without scrolling the site only contains 10 reviews.\n",
    "driver = webdriver.Chrome(options=chrome_options, service=Service(ChromeDriverManager().install()))\n",
    "driver.get(url)\n",
    "driver.implicitly_wait(5)\n",
    "body = driver.find_element(By.CSS_SELECTOR, \"body\")\n",
    "\n",
    "no_pages_down = 100 # the amount of pages down\n",
    "\n",
    "# A while loop to perform a set amount of page down operations. Since there are almost 100k reviews, we will not grab them all.\n",
    "# If we were to grab all of the reviews we would modify the loop so that it would scroll down until the screen height doesnt change, and break the loop there.\n",
    "while no_pages_down:\n",
    "    body.send_keys(Keys.PAGE_DOWN) # Instruct Selenium to press page down\n",
    "    no_pages_down -= 1 # decrementing the remaining amount of pages down\n",
    "    time.sleep(3) # giving time for the browser to load the new reviews\n",
    "\n",
    "html = driver.page_source # assigning the page html to a variable."
   ]
  },
  {
   "cell_type": "code",
   "execution_count": 19,
   "metadata": {},
   "outputs": [],
   "source": [
    "soup = bs(html)\n",
    "review_divs = soup.findAll(\"div\", class_=\"apphub_UserReviewCardContent\") # reviews are on this div class"
   ]
  },
  {
   "cell_type": "code",
   "execution_count": 20,
   "metadata": {},
   "outputs": [],
   "source": [
    "reviews = []\n",
    "for div in review_divs:\n",
    "    review_text = div.get_text().strip() # get div text and strip leading and trailing whitespace\n",
    "    review_text = review_text.replace(\"\\t\", \"\") # strip remaining tabs from middle of text\n",
    "    review_text = review_text.replace(\"\\r\", \"\") # strip carriage returns\n",
    "    review_text = \"\\n\".join(filter(None, review_text.split(\"\\n\"))) # strip line swaps while leaving one for further processing\n",
    "    reviews.append(review_text)"
   ]
  },
  {
   "cell_type": "code",
   "execution_count": 21,
   "metadata": {},
   "outputs": [
    {
     "data": {
      "text/plain": [
       "['1,839 people found this review helpful75 people found this review funny64',\n",
       " 'Recommended',\n",
       " '46.3 hrs on record',\n",
       " 'Posted: 1 November, 2022',\n",
       " \"“Don't Be Sorry, Be Better.”\"]"
      ]
     },
     "execution_count": 21,
     "metadata": {},
     "output_type": "execute_result"
    }
   ],
   "source": [
    "reviews[0].split(\"\\n\") # reviewing the output"
   ]
  },
  {
   "cell_type": "code",
   "execution_count": 22,
   "metadata": {},
   "outputs": [],
   "source": [
    "# creating regex patterns to parse out the data\n",
    "\n",
    "pattern_helpful = r\"\\d+(?:,\\d{3})*\" # this will result in a list of numbers and we only want the \"found helpful\" number so we need to slice the list with [0]\n",
    "pattern_hours = r\"([\\d.]+)\" # also a list but with only one value, so slicing with [0] also\n",
    "\n",
    "# we wont need a regex pattern for the date posted string since it starts with \"Posted: \" so we can use string.split(\"Posted: \")[1]\n"
   ]
  },
  {
   "cell_type": "code",
   "execution_count": 23,
   "metadata": {},
   "outputs": [
    {
     "name": "stdout",
     "output_type": "stream",
     "text": [
      "1,839 people found this review helpful75 people found this review funny64\n",
      "1839\n",
      "46.3 hrs on record\n",
      "46.3\n"
     ]
    }
   ],
   "source": [
    "# Testing regex\n",
    "test = reviews[0].split(\"\\n\")[0]\n",
    "test_hours = reviews[0].split(\"\\n\")[2]\n",
    "\n",
    "result_test = re.findall(pattern_helpful, test)[0].replace(\",\", \"\") # also replacing the dot\n",
    "result_test_h = re.findall(pattern_hours, test_hours)[0]\n",
    "\n",
    "print(test)\n",
    "print(result_test)\n",
    "print(test_hours)\n",
    "print(result_test_h)"
   ]
  },
  {
   "cell_type": "code",
   "execution_count": 24,
   "metadata": {},
   "outputs": [],
   "source": [
    "# Assigning the data to a Pandas dataframe\n",
    "\n",
    "# creating an empty list to store dictionaries\n",
    "data_list = []\n",
    "\n",
    "# for loop for adding the data to the empty dataframe\n",
    "for review in reviews:\n",
    "\n",
    "    review_s = review.split(\"\\n\")\n",
    "\n",
    "    helpful = re.findall(pattern_helpful, review_s[0])[0].replace(\",\", \"\") # the amount of ppl who found the review helpfull is on the first element.\n",
    "    recommend = review_s[1] == \"Recommended\" # The recommended status is on the 2nd element, we will use true/false for this field.\n",
    "    hours = re.search(pattern_hours, review_s[2])[0] # hours on record is on the 3rd element\n",
    "    post_date = review_s[3].split(\"Posted: \")[1] # we will use the split method so no need for regex.\n",
    "    review_text = review_s[4] # and for the review text itself, its on the last element.\n",
    "\n",
    "    # creating a temporary dictionary for the values\n",
    "    temp = {\"Found helpful\": int(helpful),\n",
    "                  \"Recommend\": recommend,\n",
    "                  \"Hours on record\": float(hours),\n",
    "                  \"Date posted\": post_date,\n",
    "                  \"Review text\": review_text}\n",
    "\n",
    "    data_list.append(temp) # appending the temporary dictionary to a list of data\n",
    "\n",
    "df = pd.DataFrame(data_list) # creating the pandas dataframe from the list of dictionaries."
   ]
  },
  {
   "cell_type": "code",
   "execution_count": 25,
   "metadata": {},
   "outputs": [
    {
     "data": {
      "text/html": [
       "<div>\n",
       "<style scoped>\n",
       "    .dataframe tbody tr th:only-of-type {\n",
       "        vertical-align: middle;\n",
       "    }\n",
       "\n",
       "    .dataframe tbody tr th {\n",
       "        vertical-align: top;\n",
       "    }\n",
       "\n",
       "    .dataframe thead th {\n",
       "        text-align: right;\n",
       "    }\n",
       "</style>\n",
       "<table border=\"1\" class=\"dataframe\">\n",
       "  <thead>\n",
       "    <tr style=\"text-align: right;\">\n",
       "      <th></th>\n",
       "      <th>Found helpful</th>\n",
       "      <th>Recommend</th>\n",
       "      <th>Hours on record</th>\n",
       "      <th>Date posted</th>\n",
       "      <th>Review text</th>\n",
       "    </tr>\n",
       "  </thead>\n",
       "  <tbody>\n",
       "    <tr>\n",
       "      <th>0</th>\n",
       "      <td>1839</td>\n",
       "      <td>True</td>\n",
       "      <td>46.3</td>\n",
       "      <td>1 November, 2022</td>\n",
       "      <td>“Don't Be Sorry, Be Better.”</td>\n",
       "    </tr>\n",
       "    <tr>\n",
       "      <th>1</th>\n",
       "      <td>4301</td>\n",
       "      <td>True</td>\n",
       "      <td>42.9</td>\n",
       "      <td>8 November, 2022</td>\n",
       "      <td>Bring God Of War Ragnarok on PC</td>\n",
       "    </tr>\n",
       "    <tr>\n",
       "      <th>2</th>\n",
       "      <td>1860</td>\n",
       "      <td>True</td>\n",
       "      <td>18.2</td>\n",
       "      <td>14 January, 2022</td>\n",
       "      <td>It's rare to see this much polish (on a consol...</td>\n",
       "    </tr>\n",
       "    <tr>\n",
       "      <th>3</th>\n",
       "      <td>7225</td>\n",
       "      <td>True</td>\n",
       "      <td>36.4</td>\n",
       "      <td>17 January, 2022</td>\n",
       "      <td>No additional account, no unnecessary launcher...</td>\n",
       "    </tr>\n",
       "    <tr>\n",
       "      <th>4</th>\n",
       "      <td>2340</td>\n",
       "      <td>True</td>\n",
       "      <td>11.3</td>\n",
       "      <td>22 December, 2022</td>\n",
       "      <td>hi</td>\n",
       "    </tr>\n",
       "    <tr>\n",
       "      <th>...</th>\n",
       "      <td>...</td>\n",
       "      <td>...</td>\n",
       "      <td>...</td>\n",
       "      <td>...</td>\n",
       "      <td>...</td>\n",
       "    </tr>\n",
       "    <tr>\n",
       "      <th>325</th>\n",
       "      <td>99</td>\n",
       "      <td>False</td>\n",
       "      <td>47.9</td>\n",
       "      <td>June 17, 2022</td>\n",
       "      <td>A major downgrade vs the old series.It's more ...</td>\n",
       "    </tr>\n",
       "    <tr>\n",
       "      <th>326</th>\n",
       "      <td>9</td>\n",
       "      <td>True</td>\n",
       "      <td>5.0</td>\n",
       "      <td>January 14, 2022</td>\n",
       "      <td>Probably the best game I have ever bought, if ...</td>\n",
       "    </tr>\n",
       "    <tr>\n",
       "      <th>327</th>\n",
       "      <td>17</td>\n",
       "      <td>True</td>\n",
       "      <td>43.5</td>\n",
       "      <td>April 8, 2022</td>\n",
       "      <td>Once you start playing this game, then you wil...</td>\n",
       "    </tr>\n",
       "    <tr>\n",
       "      <th>328</th>\n",
       "      <td>11</td>\n",
       "      <td>True</td>\n",
       "      <td>5.1</td>\n",
       "      <td>January 14, 2022</td>\n",
       "      <td>The best PS4 game is now on PC and its the bes...</td>\n",
       "    </tr>\n",
       "    <tr>\n",
       "      <th>329</th>\n",
       "      <td>6</td>\n",
       "      <td>True</td>\n",
       "      <td>16.5</td>\n",
       "      <td>January 19, 2022</td>\n",
       "      <td>Average God of War Enjoyer.⣿⣿⣿⣿⣿⣿⣿⣿⡿⠿⠛⠛⠛⠋⠉⠈⠉⠉⠉...</td>\n",
       "    </tr>\n",
       "  </tbody>\n",
       "</table>\n",
       "<p>330 rows × 5 columns</p>\n",
       "</div>"
      ],
      "text/plain": [
       "     Found helpful  Recommend  Hours on record        Date posted  \\\n",
       "0             1839       True             46.3   1 November, 2022   \n",
       "1             4301       True             42.9   8 November, 2022   \n",
       "2             1860       True             18.2   14 January, 2022   \n",
       "3             7225       True             36.4   17 January, 2022   \n",
       "4             2340       True             11.3  22 December, 2022   \n",
       "..             ...        ...              ...                ...   \n",
       "325             99      False             47.9      June 17, 2022   \n",
       "326              9       True              5.0   January 14, 2022   \n",
       "327             17       True             43.5      April 8, 2022   \n",
       "328             11       True              5.1   January 14, 2022   \n",
       "329              6       True             16.5   January 19, 2022   \n",
       "\n",
       "                                           Review text  \n",
       "0                         “Don't Be Sorry, Be Better.”  \n",
       "1                      Bring God Of War Ragnarok on PC  \n",
       "2    It's rare to see this much polish (on a consol...  \n",
       "3    No additional account, no unnecessary launcher...  \n",
       "4                                                   hi  \n",
       "..                                                 ...  \n",
       "325  A major downgrade vs the old series.It's more ...  \n",
       "326  Probably the best game I have ever bought, if ...  \n",
       "327  Once you start playing this game, then you wil...  \n",
       "328  The best PS4 game is now on PC and its the bes...  \n",
       "329  Average God of War Enjoyer.⣿⣿⣿⣿⣿⣿⣿⣿⡿⠿⠛⠛⠛⠋⠉⠈⠉⠉⠉...  \n",
       "\n",
       "[330 rows x 5 columns]"
      ]
     },
     "execution_count": 25,
     "metadata": {},
     "output_type": "execute_result"
    }
   ],
   "source": [
    "# Reviewing the Pandas Dataframe\n",
    "df"
   ]
  },
  {
   "cell_type": "code",
   "execution_count": null,
   "metadata": {},
   "outputs": [],
   "source": []
  }
 ],
 "metadata": {
  "kernelspec": {
   "display_name": "base",
   "language": "python",
   "name": "python3"
  },
  "language_info": {
   "codemirror_mode": {
    "name": "ipython",
    "version": 3
   },
   "file_extension": ".py",
   "mimetype": "text/x-python",
   "name": "python",
   "nbconvert_exporter": "python",
   "pygments_lexer": "ipython3",
   "version": "3.9.12"
  },
  "orig_nbformat": 4
 },
 "nbformat": 4,
 "nbformat_minor": 2
}
